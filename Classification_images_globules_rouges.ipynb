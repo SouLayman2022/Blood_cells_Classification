{
 "cells": [
  {
   "cell_type": "markdown",
   "metadata": {},
   "source": [
    "<div style=\"text-align:center; color:#AE2F88; font-size:90px\">\n",
    "Détection Du Paludisme\n",
    "</br>\n",
    "<img src=\"./pic_of_blood_cells.png\" style=\"width:900px; height:auto\">\n",
    "</div>\n",
    "\n",
    "## <span style=\"color: #AE2F88; font-size:60px\">Introduction :</span>\n",
    "\n",
    "-  Le paludisme, une maladie grave transmise par les moustiques, affecte des millions chaque année, surtout dans les régions tropicales.\n",
    "-  Actuellement, le diagnostic repose sur l'examen microscopique des frottis sanguins, nécessitant une expertise médicale.\n",
    "-  Ce projet développe un modèle de réseau neuronal pour différencier rapidement et avec précision les cellules sanguines infectées par le paludisme des cellules saines\n",
    "-  Structure de projet :\n",
    "    - 1.Manipulation de la Donnée : Préparation et augmentation des données pour l'entraînement des modèles.\n",
    "    - 2.Entraînement de Modèles : Implémentation et entraînement de trois modèles CNN différents.\n",
    "    - 3.Évaluation des Modèles : Test et évaluation des performances des modèles sur un jeu de données de test.\n",
    "\n",
    "## <span style=\"color: #AE2F88; font-size:60px\">Références :</span>\n",
    "\n",
    "- Données est extrait du site officiel des NIH, lien vers le dataset : <a href=\"https://ceb.nlm.nih.gov/repositories/malaria-datasets/\">NIH link </a>\n",
    "- Informations sur l'ensemble de données et les fichiers :\n",
    "- My-links :\n",
    "    - Git_hub : <a href=\"https://github.com/SouLayman2022/Blood_cells_Classification.git\">Repo GitHub</a>\n",
    "    - linked_in : <a href=\"https://www.linkedin.com/in/soulayman-el-guasmi-13b890240/\">Linkedin page</a>"
   ]
  }
 ],
 "metadata": {
  "language_info": {
   "name": "python"
  }
 },
 "nbformat": 4,
 "nbformat_minor": 2
}
