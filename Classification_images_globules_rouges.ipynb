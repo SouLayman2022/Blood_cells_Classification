{
 "cells": [
  {
   "cell_type": "markdown",
   "metadata": {},
   "source": [
    "<div style=\"text-align:center; color:#AE2F88; font-size:90px\">\n",
    "Détection Du Paludisme\n",
    "</br>\n",
    "<img src=\"./pic_of_blood_cells.png\" style=\"width:900px; height:auto\">\n",
    "</div>\n",
    "\n",
    "## <span style=\"color: #AE2F88; font-size:60px\">Introduction :</span>\n",
    "\n",
    "-  Le paludisme, une maladie grave transmise par les moustiques, affecte des millions chaque année, surtout dans les régions tropicales.\n",
    "-  Actuellement, le diagnostic repose sur l'examen microscopique des frottis sanguins, nécessitant une expertise médicale.\n",
    "-  Ce projet développe un modèle de réseau neuronal pour différencier rapidement et avec précision les cellules sanguines infectées par le paludisme des cellules saines\n",
    "-  Structure de projet :\n",
    "    - 1.Manipulation de la Donnée : Préparation et augmentation des données pour l'entraînement des modèles.\n",
    "    - 2.Entraînement de Modèles : Implémentation et entraînement de trois modèles CNN différents.\n",
    "    - 3.Évaluation des Modèles : Test et évaluation des performances des modèles sur un jeu de données de test.\n",
    "\n",
    "## <span style=\"color: #AE2F88; font-size:60px\">Références :</span>\n",
    "\n",
    "- Données est extrait du site officiel des NIH, lien vers le dataset : <a href=\"https://ceb.nlm.nih.gov/repositories/malaria-datasets/\">NIH link </a>\n",
    "- Informations sur l'ensemble de données et les fichiers :\n",
    "- My-links :\n",
    "    - Git_hub : <a href=\"https://github.com/SouLayman2022/Blood_cells_Classification.git\">Repo GitHub</a>\n",
    "    - linked_in : <a href=\"https://www.linkedin.com/in/soulayman-el-guasmi-13b890240/\">Linkedin page</a>\n",
    "\n",
    "## <span style=\"color:#AE2F88; font-size:60px\">Table of Contents :</span>\n",
    "- 1 Manipulation de la Donnée\n",
    "    - 1.1 [Télécharger les données fournies ](#1.1-Télécharger-les-données-fournies)\n",
    "    - 1.2 [Charger les données [Pandas, PIL, OpenCV] ](#1.2-Charger-les-données)\n",
    "    - 1.3 [Normaliser les images ](#1.3-Normaliser-les-images)\n",
    "    - 1.4 [Encoder les labels ](#1.3-Encoder-les-labels)\n",
    "    - 1.5 [Faire de la data augmentation ](#1.3-Faire-de-la-data-augmentation)\n",
    "    - 1.6 [Afficher les images augmentées ](#1.3-Afficher-les-images-augmentées)\n",
    "- 2 Entraînement de 3 Modèles\n",
    "    - 2.1 [Implémentation de 2 Callbacks ](#2.1-Implémentation-de-2-Callbacks)\n",
    "    - 2.1 [Implémentation de 3 CNN pour la Labelisation à l'aide de Keras ](#2.1-Implémentation-de-3-CNN-pour-la-Labelisation-à-l'aide-de-Keras)\n",
    "    - 2.1 [Entraînement des 3 modèles à l'aide des Callbacks implémentés ](#2.1-Entraînement-des-3-modèles-à-l'aide-des-Callbacks-implémentés)\n",
    "    - 2.1 [Sauvegarder les poids des 3 différents modèles ](#2.1-Sauvegarder-les-poids-des-3-différents-modèles)\n",
    "- 3 Test des Modèles\n",
    "    - 3.1 [Calculer la Matrice de Confusion ](#3.1-Calculer-la-Matrice-de-Confusion)\n",
    "    - 3.2 [Calculer les métriques de performance ](#3.2-Calculer-les-métriques-de-performance)\n",
    "    - 3.2 [Afficher le graphique ROC et calcule l’AUC de chacun des 3 modèles ](#3.2-Afficher-le-graphique-ROC-et-calcule-l’AUC-de-chacun-des-3-modèles)\n",
    "- 7 Summary\n",
    "    - 7.1 [Summary](#7.1-Summary)"
   ]
  }
 ],
 "metadata": {
  "language_info": {
   "name": "python"
  }
 },
 "nbformat": 4,
 "nbformat_minor": 2
}
